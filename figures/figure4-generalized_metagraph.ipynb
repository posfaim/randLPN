{
 "cells": [
  {
   "cell_type": "markdown",
   "id": "cc86b0e2",
   "metadata": {},
   "source": [
    "## Figure 4"
   ]
  },
  {
   "cell_type": "code",
   "execution_count": 1,
   "id": "946300a0",
   "metadata": {},
   "outputs": [],
   "source": [
    "import numpy as np\n",
    "import itertools\n",
    "from scipy.stats import binned_statistic, linregress, pearsonr\n",
    "\n",
    "import matplotlib.pyplot as plt\n",
    "import matplotlib\n",
    "from matplotlib.colors import Normalize\n",
    "\n",
    "import pandas as pd\n",
    "\n",
    "from sklearn.linear_model import LinearRegression"
   ]
  },
  {
   "cell_type": "markdown",
   "id": "42518c56",
   "metadata": {},
   "source": [
    "### Subplot (d) -- meta-degree distribution"
   ]
  },
  {
   "cell_type": "markdown",
   "id": "9b9c963c",
   "metadata": {},
   "source": [
    "Read meta-graph"
   ]
  },
  {
   "cell_type": "code",
   "execution_count": 2,
   "id": "1882289d",
   "metadata": {},
   "outputs": [
    {
     "data": {
      "text/html": [
       "<div>\n",
       "<style scoped>\n",
       "    .dataframe tbody tr th:only-of-type {\n",
       "        vertical-align: middle;\n",
       "    }\n",
       "\n",
       "    .dataframe tbody tr th {\n",
       "        vertical-align: top;\n",
       "    }\n",
       "\n",
       "    .dataframe thead th {\n",
       "        text-align: right;\n",
       "    }\n",
       "</style>\n",
       "<table border=\"1\" class=\"dataframe\">\n",
       "  <thead>\n",
       "    <tr style=\"text-align: right;\">\n",
       "      <th></th>\n",
       "      <th>Unnamed: 0</th>\n",
       "      <th>bodyId_1</th>\n",
       "      <th>bodyId_2</th>\n",
       "      <th>minimum_distance_threshold</th>\n",
       "    </tr>\n",
       "  </thead>\n",
       "  <tbody>\n",
       "    <tr>\n",
       "      <th>0</th>\n",
       "      <td>0</td>\n",
       "      <td>2128109571</td>\n",
       "      <td>2252931126</td>\n",
       "      <td>20</td>\n",
       "    </tr>\n",
       "    <tr>\n",
       "      <th>1</th>\n",
       "      <td>1</td>\n",
       "      <td>2128109571</td>\n",
       "      <td>2128117878</td>\n",
       "      <td>25</td>\n",
       "    </tr>\n",
       "    <tr>\n",
       "      <th>2</th>\n",
       "      <td>2</td>\n",
       "      <td>2128109571</td>\n",
       "      <td>2128109762</td>\n",
       "      <td>70</td>\n",
       "    </tr>\n",
       "    <tr>\n",
       "      <th>3</th>\n",
       "      <td>3</td>\n",
       "      <td>2128109571</td>\n",
       "      <td>1942249730</td>\n",
       "      <td>150</td>\n",
       "    </tr>\n",
       "    <tr>\n",
       "      <th>4</th>\n",
       "      <td>4</td>\n",
       "      <td>2128109571</td>\n",
       "      <td>2190860581</td>\n",
       "      <td>15</td>\n",
       "    </tr>\n",
       "    <tr>\n",
       "      <th>...</th>\n",
       "      <td>...</td>\n",
       "      <td>...</td>\n",
       "      <td>...</td>\n",
       "      <td>...</td>\n",
       "    </tr>\n",
       "    <tr>\n",
       "      <th>592435</th>\n",
       "      <td>592435</td>\n",
       "      <td>2252931070</td>\n",
       "      <td>2128109217</td>\n",
       "      <td>25</td>\n",
       "    </tr>\n",
       "    <tr>\n",
       "      <th>592436</th>\n",
       "      <td>592436</td>\n",
       "      <td>2252931070</td>\n",
       "      <td>1910873766</td>\n",
       "      <td>10</td>\n",
       "    </tr>\n",
       "    <tr>\n",
       "      <th>592437</th>\n",
       "      <td>592437</td>\n",
       "      <td>2252931070</td>\n",
       "      <td>1973616386</td>\n",
       "      <td>150</td>\n",
       "    </tr>\n",
       "    <tr>\n",
       "      <th>592438</th>\n",
       "      <td>592438</td>\n",
       "      <td>2252931070</td>\n",
       "      <td>5813002148</td>\n",
       "      <td>150</td>\n",
       "    </tr>\n",
       "    <tr>\n",
       "      <th>592439</th>\n",
       "      <td>592439</td>\n",
       "      <td>2252931070</td>\n",
       "      <td>2067062708</td>\n",
       "      <td>200</td>\n",
       "    </tr>\n",
       "  </tbody>\n",
       "</table>\n",
       "<p>592440 rows × 4 columns</p>\n",
       "</div>"
      ],
      "text/plain": [
       "        Unnamed: 0    bodyId_1    bodyId_2  minimum_distance_threshold\n",
       "0                0  2128109571  2252931126                          20\n",
       "1                1  2128109571  2128117878                          25\n",
       "2                2  2128109571  2128109762                          70\n",
       "3                3  2128109571  1942249730                         150\n",
       "4                4  2128109571  2190860581                          15\n",
       "...            ...         ...         ...                         ...\n",
       "592435      592435  2252931070  2128109217                          25\n",
       "592436      592436  2252931070  1910873766                          10\n",
       "592437      592437  2252931070  1973616386                         150\n",
       "592438      592438  2252931070  5813002148                         150\n",
       "592439      592439  2252931070  2067062708                         200\n",
       "\n",
       "[592440 rows x 4 columns]"
      ]
     },
     "execution_count": 2,
     "metadata": {},
     "output_type": "execute_result"
    }
   ],
   "source": [
    "mg_df = pd.read_csv(\"metagraph_edgelist_threshold.csv\")\n",
    "mg_df"
   ]
  },
  {
   "cell_type": "code",
   "execution_count": 3,
   "id": "231a3dcd",
   "metadata": {},
   "outputs": [],
   "source": [
    "T=1. #Delta lambda"
   ]
  },
  {
   "cell_type": "code",
   "execution_count": 4,
   "id": "fdae1e3d",
   "metadata": {},
   "outputs": [],
   "source": [
    "metadeg = pd.Series(0,index=np.unique(mg_df[['bodyId_1','bodyId_2']].values))"
   ]
  },
  {
   "cell_type": "code",
   "execution_count": 5,
   "id": "b3c443d8",
   "metadata": {},
   "outputs": [
    {
     "data": {
      "text/plain": [
       "543702186     0\n",
       "632570417     1\n",
       "695124651     4\n",
       "730709173     0\n",
       "791527493     1\n",
       "             ..\n",
       "5901211311    1\n",
       "5901216066    0\n",
       "5901220378    8\n",
       "5901225595    4\n",
       "7112616299    1\n",
       "Length: 2972, dtype: int64"
      ]
     },
     "execution_count": 5,
     "metadata": {},
     "output_type": "execute_result"
    }
   ],
   "source": [
    "metadeg.update(mg_df[mg_df.minimum_distance_threshold<=T].groupby('bodyId_1').size())\n",
    "metadeg"
   ]
  },
  {
   "cell_type": "code",
   "execution_count": 6,
   "id": "b7c85298",
   "metadata": {},
   "outputs": [
    {
     "data": {
      "text/plain": [
       "Text(0.5, 0, 'Meta-degree $(k)$')"
      ]
     },
     "execution_count": 6,
     "metadata": {},
     "output_type": "execute_result"
    },
    {
     "data": {
      "image/png": "[encoded data removed]",
      "text/plain": [
       "<Figure size 432x288 with 1 Axes>"
      ]
     },
     "metadata": {
      "needs_background": "light"
     },
     "output_type": "display_data"
    }
   ],
   "source": [
    "maxdeg = metadeg.max()\n",
    "bins = np.arange(0,maxdeg+2)-.5\n",
    "plt.hist(metadeg,bins=bins,histtype='step',linewidth=2)\n",
    "plt.hist([0]*(metadeg==0).sum(),bins=[-.5,.5],linewidth=2)\n",
    "plt.hist([maxdeg],bins=[-.5+maxdeg,.5+maxdeg],linewidth=2,color=\"#E72A00\")\n",
    "plt.yscale('log')\n",
    "plt.gca().spines['right'].set_visible(False)\n",
    "plt.gca().spines['top'].set_visible(False)\n",
    "plt.ylabel(r'$N(k)$')\n",
    "plt.xlabel(r'Meta-degree $(k)$')"
   ]
  },
  {
   "cell_type": "markdown",
   "id": "3bb89561",
   "metadata": {},
   "source": [
    "### Figure (e) -- meta-degree - synapse correlations"
   ]
  },
  {
   "cell_type": "markdown",
   "id": "11c46358",
   "metadata": {},
   "source": [
    "Read the connectome (synapse network) of the sample we are working with"
   ]
  },
  {
   "cell_type": "code",
   "execution_count": 7,
   "id": "f73d85ba",
   "metadata": {
    "scrolled": false
   },
   "outputs": [
    {
     "data": {
      "text/html": [
       "<div>\n",
       "<style scoped>\n",
       "    .dataframe tbody tr th:only-of-type {\n",
       "        vertical-align: middle;\n",
       "    }\n",
       "\n",
       "    .dataframe tbody tr th {\n",
       "        vertical-align: top;\n",
       "    }\n",
       "\n",
       "    .dataframe thead th {\n",
       "        text-align: right;\n",
       "    }\n",
       "</style>\n",
       "<table border=\"1\" class=\"dataframe\">\n",
       "  <thead>\n",
       "    <tr style=\"text-align: right;\">\n",
       "      <th></th>\n",
       "      <th>Unnamed: 0</th>\n",
       "      <th>bodyId_pre</th>\n",
       "      <th>bodyId_post</th>\n",
       "      <th>roi</th>\n",
       "      <th>weight</th>\n",
       "    </tr>\n",
       "  </thead>\n",
       "  <tbody>\n",
       "    <tr>\n",
       "      <th>0</th>\n",
       "      <td>0</td>\n",
       "      <td>543702186</td>\n",
       "      <td>791527493</td>\n",
       "      <td>PLP(R)</td>\n",
       "      <td>2</td>\n",
       "    </tr>\n",
       "    <tr>\n",
       "      <th>1</th>\n",
       "      <td>1</td>\n",
       "      <td>543702186</td>\n",
       "      <td>1749628974</td>\n",
       "      <td>PLP(R)</td>\n",
       "      <td>1</td>\n",
       "    </tr>\n",
       "    <tr>\n",
       "      <th>2</th>\n",
       "      <td>2</td>\n",
       "      <td>543702186</td>\n",
       "      <td>2130504694</td>\n",
       "      <td>AME(R)</td>\n",
       "      <td>1</td>\n",
       "    </tr>\n",
       "    <tr>\n",
       "      <th>3</th>\n",
       "      <td>3</td>\n",
       "      <td>543702186</td>\n",
       "      <td>2161872840</td>\n",
       "      <td>ME(R)</td>\n",
       "      <td>1</td>\n",
       "    </tr>\n",
       "    <tr>\n",
       "      <th>4</th>\n",
       "      <td>4</td>\n",
       "      <td>543702186</td>\n",
       "      <td>2254640190</td>\n",
       "      <td>ME(R)</td>\n",
       "      <td>1</td>\n",
       "    </tr>\n",
       "    <tr>\n",
       "      <th>...</th>\n",
       "      <td>...</td>\n",
       "      <td>...</td>\n",
       "      <td>...</td>\n",
       "      <td>...</td>\n",
       "      <td>...</td>\n",
       "    </tr>\n",
       "    <tr>\n",
       "      <th>35696</th>\n",
       "      <td>35709</td>\n",
       "      <td>7112616299</td>\n",
       "      <td>5813045602</td>\n",
       "      <td>SPS(R)</td>\n",
       "      <td>3</td>\n",
       "    </tr>\n",
       "    <tr>\n",
       "      <th>35697</th>\n",
       "      <td>35710</td>\n",
       "      <td>7112616299</td>\n",
       "      <td>5813046248</td>\n",
       "      <td>NotPrimary</td>\n",
       "      <td>1</td>\n",
       "    </tr>\n",
       "    <tr>\n",
       "      <th>35698</th>\n",
       "      <td>35711</td>\n",
       "      <td>7112616299</td>\n",
       "      <td>5813056759</td>\n",
       "      <td>NotPrimary</td>\n",
       "      <td>2</td>\n",
       "    </tr>\n",
       "    <tr>\n",
       "      <th>35699</th>\n",
       "      <td>35712</td>\n",
       "      <td>7112616299</td>\n",
       "      <td>5813069193</td>\n",
       "      <td>AME(R)</td>\n",
       "      <td>1</td>\n",
       "    </tr>\n",
       "    <tr>\n",
       "      <th>35700</th>\n",
       "      <td>35713</td>\n",
       "      <td>7112616299</td>\n",
       "      <td>5813069255</td>\n",
       "      <td>NotPrimary</td>\n",
       "      <td>4</td>\n",
       "    </tr>\n",
       "  </tbody>\n",
       "</table>\n",
       "<p>35701 rows × 5 columns</p>\n",
       "</div>"
      ],
      "text/plain": [
       "       Unnamed: 0  bodyId_pre  bodyId_post         roi  weight\n",
       "0               0   543702186    791527493      PLP(R)       2\n",
       "1               1   543702186   1749628974      PLP(R)       1\n",
       "2               2   543702186   2130504694      AME(R)       1\n",
       "3               3   543702186   2161872840       ME(R)       1\n",
       "4               4   543702186   2254640190       ME(R)       1\n",
       "...           ...         ...          ...         ...     ...\n",
       "35696       35709  7112616299   5813045602      SPS(R)       3\n",
       "35697       35710  7112616299   5813046248  NotPrimary       1\n",
       "35698       35711  7112616299   5813056759  NotPrimary       2\n",
       "35699       35712  7112616299   5813069193      AME(R)       1\n",
       "35700       35713  7112616299   5813069255  NotPrimary       4\n",
       "\n",
       "[35701 rows x 5 columns]"
      ]
     },
     "execution_count": 7,
     "metadata": {},
     "output_type": "execute_result"
    }
   ],
   "source": [
    "conn_df = pd.read_csv(\"connectome_edgelist.csv\")\n",
    "conn_df"
   ]
  },
  {
   "cell_type": "markdown",
   "id": "6fc965c9",
   "metadata": {},
   "source": [
    "Connectome degree of neurons"
   ]
  },
  {
   "cell_type": "code",
   "execution_count": 8,
   "id": "80a1b876",
   "metadata": {},
   "outputs": [],
   "source": [
    "num_synapses = conn_df.groupby('bodyId_pre')['weight'].sum()+conn_df.groupby('bodyId_post')['weight'].sum()"
   ]
  },
  {
   "cell_type": "code",
   "execution_count": 9,
   "id": "fdd5dc39",
   "metadata": {},
   "outputs": [],
   "source": [
    "num_unique_synapses = conn_df.groupby('bodyId_pre')['weight'].count()+conn_df.groupby('bodyId_post')['weight'].count()"
   ]
  },
  {
   "cell_type": "code",
   "execution_count": 10,
   "id": "8edd2d83",
   "metadata": {},
   "outputs": [
    {
     "data": {
      "text/html": [
       "<div>\n",
       "<style scoped>\n",
       "    .dataframe tbody tr th:only-of-type {\n",
       "        vertical-align: middle;\n",
       "    }\n",
       "\n",
       "    .dataframe tbody tr th {\n",
       "        vertical-align: top;\n",
       "    }\n",
       "\n",
       "    .dataframe thead th {\n",
       "        text-align: right;\n",
       "    }\n",
       "</style>\n",
       "<table border=\"1\" class=\"dataframe\">\n",
       "  <thead>\n",
       "    <tr style=\"text-align: right;\">\n",
       "      <th></th>\n",
       "      <th>num_synapses</th>\n",
       "      <th>num_unique_synapses</th>\n",
       "    </tr>\n",
       "  </thead>\n",
       "  <tbody>\n",
       "    <tr>\n",
       "      <th>543702186</th>\n",
       "      <td>38.0</td>\n",
       "      <td>24.0</td>\n",
       "    </tr>\n",
       "    <tr>\n",
       "      <th>632570417</th>\n",
       "      <td>72.0</td>\n",
       "      <td>38.0</td>\n",
       "    </tr>\n",
       "    <tr>\n",
       "      <th>695124651</th>\n",
       "      <td>690.0</td>\n",
       "      <td>75.0</td>\n",
       "    </tr>\n",
       "    <tr>\n",
       "      <th>730709173</th>\n",
       "      <td>12.0</td>\n",
       "      <td>12.0</td>\n",
       "    </tr>\n",
       "    <tr>\n",
       "      <th>791527493</th>\n",
       "      <td>134.0</td>\n",
       "      <td>87.0</td>\n",
       "    </tr>\n",
       "    <tr>\n",
       "      <th>...</th>\n",
       "      <td>...</td>\n",
       "      <td>...</td>\n",
       "    </tr>\n",
       "    <tr>\n",
       "      <th>5901211311</th>\n",
       "      <td>4.0</td>\n",
       "      <td>4.0</td>\n",
       "    </tr>\n",
       "    <tr>\n",
       "      <th>5901216066</th>\n",
       "      <td>40.0</td>\n",
       "      <td>28.0</td>\n",
       "    </tr>\n",
       "    <tr>\n",
       "      <th>5901220378</th>\n",
       "      <td>80.0</td>\n",
       "      <td>55.0</td>\n",
       "    </tr>\n",
       "    <tr>\n",
       "      <th>5901225595</th>\n",
       "      <td>60.0</td>\n",
       "      <td>41.0</td>\n",
       "    </tr>\n",
       "    <tr>\n",
       "      <th>7112616299</th>\n",
       "      <td>120.0</td>\n",
       "      <td>67.0</td>\n",
       "    </tr>\n",
       "  </tbody>\n",
       "</table>\n",
       "<p>2970 rows × 2 columns</p>\n",
       "</div>"
      ],
      "text/plain": [
       "            num_synapses  num_unique_synapses\n",
       "543702186           38.0                 24.0\n",
       "632570417           72.0                 38.0\n",
       "695124651          690.0                 75.0\n",
       "730709173           12.0                 12.0\n",
       "791527493          134.0                 87.0\n",
       "...                  ...                  ...\n",
       "5901211311           4.0                  4.0\n",
       "5901216066          40.0                 28.0\n",
       "5901220378          80.0                 55.0\n",
       "5901225595          60.0                 41.0\n",
       "7112616299         120.0                 67.0\n",
       "\n",
       "[2970 rows x 2 columns]"
      ]
     },
     "execution_count": 10,
     "metadata": {},
     "output_type": "execute_result"
    }
   ],
   "source": [
    "df = pd.DataFrame([num_synapses,num_unique_synapses]).T\n",
    "df.columns = ['num_synapses','num_unique_synapses']\n",
    "df"
   ]
  },
  {
   "cell_type": "code",
   "execution_count": 11,
   "id": "9c30a6be",
   "metadata": {},
   "outputs": [
    {
     "data": {
      "text/html": [
       "<div>\n",
       "<style scoped>\n",
       "    .dataframe tbody tr th:only-of-type {\n",
       "        vertical-align: middle;\n",
       "    }\n",
       "\n",
       "    .dataframe tbody tr th {\n",
       "        vertical-align: top;\n",
       "    }\n",
       "\n",
       "    .dataframe thead th {\n",
       "        text-align: right;\n",
       "    }\n",
       "</style>\n",
       "<table border=\"1\" class=\"dataframe\">\n",
       "  <thead>\n",
       "    <tr style=\"text-align: right;\">\n",
       "      <th></th>\n",
       "      <th>num_synapses</th>\n",
       "      <th>num_unique_synapses</th>\n",
       "      <th>metadegree</th>\n",
       "    </tr>\n",
       "  </thead>\n",
       "  <tbody>\n",
       "    <tr>\n",
       "      <th>543702186</th>\n",
       "      <td>38.0</td>\n",
       "      <td>24.0</td>\n",
       "      <td>0</td>\n",
       "    </tr>\n",
       "    <tr>\n",
       "      <th>632570417</th>\n",
       "      <td>72.0</td>\n",
       "      <td>38.0</td>\n",
       "      <td>1</td>\n",
       "    </tr>\n",
       "    <tr>\n",
       "      <th>695124651</th>\n",
       "      <td>690.0</td>\n",
       "      <td>75.0</td>\n",
       "      <td>4</td>\n",
       "    </tr>\n",
       "    <tr>\n",
       "      <th>730709173</th>\n",
       "      <td>12.0</td>\n",
       "      <td>12.0</td>\n",
       "      <td>0</td>\n",
       "    </tr>\n",
       "    <tr>\n",
       "      <th>791527493</th>\n",
       "      <td>134.0</td>\n",
       "      <td>87.0</td>\n",
       "      <td>1</td>\n",
       "    </tr>\n",
       "    <tr>\n",
       "      <th>...</th>\n",
       "      <td>...</td>\n",
       "      <td>...</td>\n",
       "      <td>...</td>\n",
       "    </tr>\n",
       "    <tr>\n",
       "      <th>5901211311</th>\n",
       "      <td>4.0</td>\n",
       "      <td>4.0</td>\n",
       "      <td>1</td>\n",
       "    </tr>\n",
       "    <tr>\n",
       "      <th>5901216066</th>\n",
       "      <td>40.0</td>\n",
       "      <td>28.0</td>\n",
       "      <td>0</td>\n",
       "    </tr>\n",
       "    <tr>\n",
       "      <th>5901220378</th>\n",
       "      <td>80.0</td>\n",
       "      <td>55.0</td>\n",
       "      <td>8</td>\n",
       "    </tr>\n",
       "    <tr>\n",
       "      <th>5901225595</th>\n",
       "      <td>60.0</td>\n",
       "      <td>41.0</td>\n",
       "      <td>4</td>\n",
       "    </tr>\n",
       "    <tr>\n",
       "      <th>7112616299</th>\n",
       "      <td>120.0</td>\n",
       "      <td>67.0</td>\n",
       "      <td>1</td>\n",
       "    </tr>\n",
       "  </tbody>\n",
       "</table>\n",
       "<p>2970 rows × 3 columns</p>\n",
       "</div>"
      ],
      "text/plain": [
       "            num_synapses  num_unique_synapses  metadegree\n",
       "543702186           38.0                 24.0           0\n",
       "632570417           72.0                 38.0           1\n",
       "695124651          690.0                 75.0           4\n",
       "730709173           12.0                 12.0           0\n",
       "791527493          134.0                 87.0           1\n",
       "...                  ...                  ...         ...\n",
       "5901211311           4.0                  4.0           1\n",
       "5901216066          40.0                 28.0           0\n",
       "5901220378          80.0                 55.0           8\n",
       "5901225595          60.0                 41.0           4\n",
       "7112616299         120.0                 67.0           1\n",
       "\n",
       "[2970 rows x 3 columns]"
      ]
     },
     "execution_count": 11,
     "metadata": {},
     "output_type": "execute_result"
    }
   ],
   "source": [
    "df['metadegree']=metadeg\n",
    "df"
   ]
  },
  {
   "cell_type": "code",
   "execution_count": 12,
   "id": "6de63014",
   "metadata": {},
   "outputs": [
    {
     "name": "stdout",
     "output_type": "stream",
     "text": [
      "LinregressResult(slope=0.35579879912070084, intercept=2.8395162328935077, rvalue=0.5093635824159848, pvalue=6.326372026716778e-186, stderr=0.011327578625484945)\n"
     ]
    },
    {
     "data": {
      "text/plain": [
       "Text(0, 0.5, 'Number of synapses')"
      ]
     },
     "execution_count": 12,
     "metadata": {},
     "output_type": "execute_result"
    },
    {
     "data": {
      "image/png": "[encoded data removed]",
      "text/plain": [
       "<Figure size 432x288 with 1 Axes>"
      ]
     },
     "metadata": {
      "needs_background": "light"
     },
     "output_type": "display_data"
    }
   ],
   "source": [
    "meta_deg = df['metadegree']\n",
    "conn_deg = df['num_synapses']\n",
    "plt.scatter(meta_deg,conn_deg,s=.3,alpha=.5)\n",
    "\n",
    "mask =  (conn_deg>0)\n",
    "\n",
    "res = linregress(meta_deg[mask],np.log(conn_deg[mask]))\n",
    "print(res)\n",
    "\n",
    "lfs = 18\n",
    "\n",
    "\n",
    "bins_md = np.linspace(-0.5,13.5,14)\n",
    "\n",
    "bmd_md,be,bn   = binned_statistic(meta_deg[mask], meta_deg[mask], statistic='mean', bins=bins_md)\n",
    "bcd_md,be,bn   = binned_statistic(meta_deg[mask], np.log(conn_deg[mask]), statistic='mean', bins=bins_md)\n",
    "\n",
    "plt.plot(bmd_md,np.exp(bcd_md),'o',linewidth=2,markersize=6,label=fr'$\\Delta \\lambda={T/17.97/2:.2}$')\n",
    "plt.plot(bins_md, np.exp(res.slope*bins_md+res.intercept),'--k')\n",
    "\n",
    "plt.ylim(bottom=.8,top=3000)\n",
    "\n",
    "plt.yscale('log')\n",
    "plt.xlabel('Meta-degree',fontsize=lfs)\n",
    "plt.ylabel('Number of synapses',fontsize=lfs)"
   ]
  },
  {
   "cell_type": "markdown",
   "id": "1ebe7a59",
   "metadata": {},
   "source": [
    "### Final figure"
   ]
  },
  {
   "cell_type": "code",
   "execution_count": 13,
   "id": "7946a32b",
   "metadata": {},
   "outputs": [
    {
     "data": {
      "image/png": "[encoded data removed]",
      "text/plain": [
       "<Figure size 864x288 with 2 Axes>"
      ]
     },
     "metadata": {
      "needs_background": "light"
     },
     "output_type": "display_data"
    }
   ],
   "source": [
    "plt.rcParams.update({'font.size': 14})\n",
    "fig,axs = plt.subplots(1,2,figsize=(12,4))\n",
    "\n",
    "lw=1\n",
    "lw2=1.5\n",
    "ps = 4.5\n",
    "lfs = 18\n",
    "legfs = 14\n",
    "\n",
    "plt.sca(axs[0])\n",
    "\n",
    "maxdeg = metadeg.max()\n",
    "bins = np.arange(0,maxdeg+2)-.5\n",
    "plt.hist(metadeg,bins=bins,histtype='step',linewidth=2)\n",
    "plt.hist([0]*(metadeg==0).sum(),bins=[-.5,.5],linewidth=2)\n",
    "plt.hist([maxdeg],bins=[-.5+maxdeg,.5+maxdeg],linewidth=2,color=\"#E72A00\")\n",
    "plt.yscale('log')\n",
    "plt.ylabel(r'Count',fontsize=lfs)\n",
    "plt.xlabel(r'Meta-degree',fontsize=lfs)\n",
    "\n",
    "\n",
    "\n",
    "plt.sca(axs[1])\n",
    "\n",
    "meta_deg = df['metadegree']\n",
    "conn_deg = df['num_synapses']\n",
    "plt.scatter(meta_deg,conn_deg,s=.3,alpha=.5)\n",
    "\n",
    "mask =  (conn_deg>0)\n",
    "\n",
    "res = linregress(meta_deg[mask],np.log(conn_deg[mask]))\n",
    "\n",
    "bins_md = np.linspace(-0.5,13.5,14)\n",
    "\n",
    "bmd_md,be,bn   = binned_statistic(meta_deg[mask], meta_deg[mask], statistic='mean', bins=bins_md)\n",
    "bcd_md,be,bn   = binned_statistic(meta_deg[mask], np.log(conn_deg[mask]), statistic='mean', bins=bins_md)\n",
    "\n",
    "plt.plot(bmd_md,np.exp(bcd_md),'o',linewidth=2,markersize=6,label=fr'$\\Delta \\lambda={T/17.97/2:.2}$')\n",
    "plt.plot(bins_md, np.exp(res.slope*bins_md+res.intercept),'--k')\n",
    "\n",
    "plt.ylim(bottom=.8,top=3000)\n",
    "\n",
    "plt.yscale('log')\n",
    "plt.xlabel('Meta-degree',fontsize=lfs)\n",
    "plt.ylabel('Number of synapses',fontsize=lfs)\n",
    "\n",
    "\n",
    "plt.tight_layout()"
   ]
  },
  {
   "cell_type": "code",
   "execution_count": null,
   "id": "11857a15",
   "metadata": {},
   "outputs": [],
   "source": []
  }
 ],
 "metadata": {
  "kernelspec": {
   "display_name": "Python 3",
   "language": "python",
   "name": "python3"
  },
  "language_info": {
   "codemirror_mode": {
    "name": "ipython",
    "version": 3
   },
   "file_extension": ".py",
   "mimetype": "text/x-python",
   "name": "python",
   "nbconvert_exporter": "python",
   "pygments_lexer": "ipython3",
   "version": "3.6.11"
  }
 },
 "nbformat": 4,
 "nbformat_minor": 5
}
