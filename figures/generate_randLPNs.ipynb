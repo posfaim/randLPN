{
 "cells": [
  {
   "cell_type": "markdown",
   "id": "7983700a",
   "metadata": {},
   "source": [
    "## Generate random LPNs\n",
    "\n",
    "Example code to generate and save instances of random linear physical networks."
   ]
  },
  {
   "cell_type": "code",
   "execution_count": 1,
   "id": "635e1dd1",
   "metadata": {},
   "outputs": [],
   "source": [
    "import numpy as np\n",
    "import json\n",
    "\n",
    "import sys\n",
    "sys.path.append('../build/lib.linux-x86_64-3.6/')\n",
    "\n",
    "import randLPN_CPP as lpnCPP"
   ]
  },
  {
   "cell_type": "code",
   "execution_count": 2,
   "id": "0b14c8ec",
   "metadata": {
    "scrolled": true
   },
   "outputs": [
    {
     "name": "stderr",
     "output_type": "stream",
     "text": [
      "1e-06: 0 1 2 3 4 0.00031622776601683794: 0 1 2 3 4 0.1: 0 1 2 3 4 Done.\n"
     ]
    }
   ],
   "source": [
    "description = '''\n",
    "List of random physical networks with link-link interaction.\n",
    "points:     coordinates of the nodes\n",
    "links:      list of links succesfully added\n",
    "time_added: time at the link was added from 0 to N*(N-1)/2, one timestep is an attempt to add a link\n",
    "'''\n",
    "\n",
    "N=100\n",
    "indep = 5\n",
    "\n",
    "ds = np.logspace(-6,-1,3,endpoint=True)\n",
    "\n",
    "for d in ds:\n",
    "    print(d,end=': ',file=sys.stderr)\n",
    "    \n",
    "    physnets = []\n",
    "    for i in range(indep):\n",
    "        print(i,end=' ',file=sys.stderr)\n",
    "        pts,vws,ts = lpnCPP.LinPhysER_linkonly(N,N**2,d)\n",
    "\n",
    "        physnets.append({'points': pts, 'links': vws, 'time_added': ts})       \n",
    "        \n",
    "    with open('randLPN_linklink_N%dlambda%.6findep%d.json'%(N,d,indep),'w') as f:\n",
    "        json.dump({'description':description, 'N':N, 'lambda':d, 'physnets':physnets}, f)\n",
    "\n",
    "print('Done.',file=sys.stderr)"
   ]
  },
  {
   "cell_type": "code",
   "execution_count": null,
   "id": "237103bd",
   "metadata": {},
   "outputs": [],
   "source": []
  }
 ],
 "metadata": {
  "kernelspec": {
   "display_name": "Python 3",
   "language": "python",
   "name": "python3"
  },
  "language_info": {
   "codemirror_mode": {
    "name": "ipython",
    "version": 3
   },
   "file_extension": ".py",
   "mimetype": "text/x-python",
   "name": "python",
   "nbconvert_exporter": "python",
   "pygments_lexer": "ipython3",
   "version": "3.6.11"
  }
 },
 "nbformat": 4,
 "nbformat_minor": 5
}
