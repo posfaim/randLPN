{
 "cells": [
  {
   "cell_type": "markdown",
   "id": "103e4f40",
   "metadata": {},
   "source": [
    "## Figure 3"
   ]
  },
  {
   "cell_type": "code",
   "execution_count": 1,
   "id": "510229d3",
   "metadata": {},
   "outputs": [],
   "source": [
    "import numpy as np\n",
    "import json\n",
    "import itertools\n",
    "\n",
    "import igraph as ig\n",
    "\n",
    "import matplotlib.pyplot as plt\n",
    "import matplotlib\n",
    "from matplotlib.colors import Normalize\n",
    "\n",
    "from scipy.linalg import eigh\n",
    "\n",
    "from sklearn.linear_model import LinearRegression"
   ]
  },
  {
   "cell_type": "markdown",
   "id": "21245659",
   "metadata": {},
   "source": [
    "### Subplots (a,b) -- Eigenspectra example"
   ]
  },
  {
   "cell_type": "markdown",
   "id": "0aa5690b",
   "metadata": {},
   "source": [
    "#### Load a pre-generated network instance\n",
    "\n",
    "Download data from here:<br>\n",
    "https://figshare.com/articles/dataset/Random_linear_physical_network_instances/24083532\n",
    "\n",
    "Or generate your own networks using the `generate_randLPNs.ipynb` notebook."
   ]
  },
  {
   "cell_type": "code",
   "execution_count": 2,
   "id": "cfd382b9",
   "metadata": {},
   "outputs": [],
   "source": [
    "N=300\n",
    "alpha=1.\n",
    "indep=1000\n",
    "with open(\"saved_nets/randLPN_linklink_N%dalpha%.3findep%d.json\"%(N,alpha,indep),'rt') as f:\n",
    "        json_dict = json.load(f)\n",
    "pts = np.array(json_dict['physnets'][0]['points'])\n",
    "vws = np.array(json_dict['physnets'][0]['links'])\n"
   ]
  },
  {
   "cell_type": "markdown",
   "id": "97679f89",
   "metadata": {},
   "source": [
    "#### Include all physical edges"
   ]
  },
  {
   "cell_type": "code",
   "execution_count": 3,
   "id": "808567af",
   "metadata": {},
   "outputs": [],
   "source": [
    "Afull = np.zeros((N,N))\n",
    "for v,w in vws:\n",
    "    Afull[v,w]=1\n",
    "    Afull[w,v]=1\n",
    "\n",
    "eigsfull,vecsfull = eigh(Afull)"
   ]
  },
  {
   "cell_type": "code",
   "execution_count": 4,
   "id": "6d600438",
   "metadata": {},
   "outputs": [],
   "source": [
    "sidxfull = sorted(list(range(N)),key=lambda x: -abs(eigsfull[x]))"
   ]
  },
  {
   "cell_type": "code",
   "execution_count": 5,
   "id": "7bf86ec5",
   "metadata": {},
   "outputs": [],
   "source": [
    "vec2_full,vec3_full,vec4_full = vecsfull[:,sidxfull[1]],vecsfull[:,sidxfull[2]],vecsfull[:,sidxfull[3]]"
   ]
  },
  {
   "cell_type": "markdown",
   "id": "c6d33048",
   "metadata": {},
   "source": [
    "Calculate semicircle pdf"
   ]
  },
  {
   "cell_type": "code",
   "execution_count": 6,
   "id": "e650a648",
   "metadata": {},
   "outputs": [],
   "source": [
    "R = 2*(2*len(vws)/300*(1-2*len(vws)/300/300))**.5\n",
    "xsfull = np.linspace(-R,R,100)\n",
    "semicirclefull = 2/np.pi/R**2*(R**2-xsfull**2)**.5"
   ]
  },
  {
   "cell_type": "markdown",
   "id": "b50d90f2",
   "metadata": {},
   "source": [
    "Generate reference ER"
   ]
  },
  {
   "cell_type": "code",
   "execution_count": 7,
   "id": "017ed47f",
   "metadata": {},
   "outputs": [],
   "source": [
    "er = ig.Graph.Erdos_Renyi(n=N, m=len(vws))"
   ]
  },
  {
   "cell_type": "code",
   "execution_count": 8,
   "id": "29c88db5",
   "metadata": {
    "scrolled": true
   },
   "outputs": [],
   "source": [
    "er_A = np.zeros((N,N))\n",
    "for e in er.es:\n",
    "    v,w=e.tuple\n",
    "    er_A[v,w]=1\n",
    "    er_A[w,v]=1\n",
    "\n",
    "er_eigs_full,er_vecs_full = eigh(er_A)"
   ]
  },
  {
   "cell_type": "markdown",
   "id": "381c4c7c",
   "metadata": {},
   "source": [
    "#### Include only the first 1000 physical links"
   ]
  },
  {
   "cell_type": "code",
   "execution_count": 9,
   "id": "2470ede2",
   "metadata": {},
   "outputs": [],
   "source": [
    "A1000 = np.zeros((N,N))\n",
    "for v,w in vws[:1000]:\n",
    "    A1000[v,w]=1\n",
    "    A1000[w,v]=1\n",
    "\n",
    "eigs1000,vecs1000 = eigh(A1000)"
   ]
  },
  {
   "cell_type": "code",
   "execution_count": 10,
   "id": "46af12ce",
   "metadata": {},
   "outputs": [],
   "source": [
    "sidx1000 = sorted(list(range(N)),key=lambda x: -(eigs1000[x]))"
   ]
  },
  {
   "cell_type": "code",
   "execution_count": 11,
   "id": "05180b1c",
   "metadata": {},
   "outputs": [],
   "source": [
    "vec2_1000,vec3_1000,vec4_1000 = vecs1000[:,sidx1000[1]],vecs1000[:,sidx1000[2]],vecs1000[:,sidx1000[3]]\n"
   ]
  },
  {
   "cell_type": "markdown",
   "id": "21910a5c",
   "metadata": {},
   "source": [
    "Calculate semicircle pdf"
   ]
  },
  {
   "cell_type": "code",
   "execution_count": 12,
   "id": "db02b7e9",
   "metadata": {},
   "outputs": [],
   "source": [
    "R = 2*(2*1000/300*(1-2*1000/300/300))**.5\n",
    "xs1000 = np.linspace(-R,R,100)\n",
    "semicircle1000 = 2/np.pi/R**2*(R**2-xs1000**2)**.5"
   ]
  },
  {
   "cell_type": "markdown",
   "id": "bb8aa065",
   "metadata": {},
   "source": [
    "Generate reference ER"
   ]
  },
  {
   "cell_type": "code",
   "execution_count": 13,
   "id": "924447c2",
   "metadata": {},
   "outputs": [],
   "source": [
    "er = ig.Graph.Erdos_Renyi(n=N, m=1000)"
   ]
  },
  {
   "cell_type": "code",
   "execution_count": 14,
   "id": "58669f4f",
   "metadata": {
    "scrolled": true
   },
   "outputs": [],
   "source": [
    "er_A = np.zeros((N,N))\n",
    "for e in er.es:\n",
    "    v,w=e.tuple\n",
    "    er_A[v,w]=1\n",
    "    er_A[w,v]=1\n",
    "\n",
    "er_eigs_1000,er_vecs_1000 = eigh(er_A)"
   ]
  },
  {
   "cell_type": "markdown",
   "id": "addc3521",
   "metadata": {},
   "source": [
    "### Subplot (c) -- Predicted node position"
   ]
  },
  {
   "cell_type": "markdown",
   "id": "be701619",
   "metadata": {},
   "source": [
    "Include all physical links"
   ]
  },
  {
   "cell_type": "code",
   "execution_count": 15,
   "id": "a7b48d41",
   "metadata": {},
   "outputs": [],
   "source": [
    "reg = LinearRegression().fit(np.array([vec2_full,vec3_full,vec4_full]).T, pts)\n",
    "pred_coord_full = reg.predict(np.array([vec2_full,vec3_full,vec4_full]).T)"
   ]
  },
  {
   "cell_type": "markdown",
   "id": "45fa0eef",
   "metadata": {},
   "source": [
    "Using only the first 1000 links"
   ]
  },
  {
   "cell_type": "code",
   "execution_count": 16,
   "id": "1b0eff7d",
   "metadata": {},
   "outputs": [],
   "source": [
    "reg = LinearRegression().fit(np.array([vec2_1000,vec3_1000,vec4_1000]).T, pts)\n",
    "pred_coord_1000 = reg.predict(np.array([vec2_1000,vec3_1000,vec4_1000]).T)"
   ]
  },
  {
   "cell_type": "markdown",
   "id": "9707d1f6",
   "metadata": {},
   "source": [
    "### Subplot (d) -- $R^2$"
   ]
  },
  {
   "cell_type": "markdown",
   "id": "5314b793",
   "metadata": {},
   "source": [
    "#### Load pre-generated network instances and calculate statistics\n",
    "\n",
    "Download data from here:<br>\n",
    "https://figshare.com/articles/dataset/Random_linear_physical_network_instances/24083532\n",
    "\n",
    "Or generate your own networks using the `generate_randLPNs.ipynb` notebook."
   ]
  },
  {
   "cell_type": "code",
   "execution_count": 17,
   "id": "252dc108",
   "metadata": {},
   "outputs": [
    {
     "name": "stderr",
     "output_type": "stream",
     "text": [
      "/home/posfaim/anaconda3/envs/physnet/lib/python3.6/site-packages/ipykernel_launcher.py:57: RuntimeWarning: Mean of empty slice\n",
      "/home/posfaim/anaconda3/envs/physnet/lib/python3.6/site-packages/numpy/lib/nanfunctions.py:1665: RuntimeWarning: Degrees of freedom <= 0 for slice.\n",
      "  keepdims=keepdims)\n",
      "/home/posfaim/anaconda3/envs/physnet/lib/python3.6/site-packages/ipykernel_launcher.py:57: RuntimeWarning: Mean of empty slice\n",
      "/home/posfaim/anaconda3/envs/physnet/lib/python3.6/site-packages/numpy/lib/nanfunctions.py:1665: RuntimeWarning: Degrees of freedom <= 0 for slice.\n",
      "  keepdims=keepdims)\n",
      "/home/posfaim/anaconda3/envs/physnet/lib/python3.6/site-packages/ipykernel_launcher.py:57: RuntimeWarning: Mean of empty slice\n",
      "/home/posfaim/anaconda3/envs/physnet/lib/python3.6/site-packages/numpy/lib/nanfunctions.py:1665: RuntimeWarning: Degrees of freedom <= 0 for slice.\n",
      "  keepdims=keepdims)\n",
      "/home/posfaim/anaconda3/envs/physnet/lib/python3.6/site-packages/ipykernel_launcher.py:57: RuntimeWarning: Mean of empty slice\n",
      "/home/posfaim/anaconda3/envs/physnet/lib/python3.6/site-packages/numpy/lib/nanfunctions.py:1665: RuntimeWarning: Degrees of freedom <= 0 for slice.\n",
      "  keepdims=keepdims)\n"
     ]
    }
   ],
   "source": [
    "N=300\n",
    "\n",
    "alphas=[2.,1.,.5,.35]\n",
    "indep = 1000\n",
    "\n",
    "#measurement points\n",
    "mps = np.array(np.unique(np.round(np.logspace(0,np.log10(N*(N-1)/2),100))),dtype=int)\n",
    "\n",
    "R2     = {}\n",
    "R2std  = {}\n",
    "\n",
    "## get Mmax for vertical dashed line\n",
    "MMAX    = {}\n",
    "\n",
    "for alpha in alphas:\n",
    "    with open(\"saved_nets/randLPN_linklink_N%dalpha%.3findep%d.json\"%(N,alpha,indep),'rt') as f:\n",
    "        json_dict = json.load(f)\n",
    "    \n",
    "    r2s      = np.empty((indep,len(mps)))\n",
    "    r2s[:,:] = np.nan\n",
    "    \n",
    "    Mmaxs = np.zeros(indep)\n",
    "    \n",
    "    #for i in range(indep): #uncomment to use 1000 samples, takes long to run\n",
    "    for i in range(10):\n",
    "        #read phys net\n",
    "        d_pts = json_dict['physnets'][i]['points']\n",
    "        d_vws = json_dict['physnets'][i]['links']\n",
    "        d_pts = np.array(d_pts)\n",
    "        d_vws = np.array(d_vws)\n",
    "        \n",
    "        #Mmax\n",
    "        Mmaxs[i] = len(d_vws)\n",
    "        \n",
    "        #R2\n",
    "        A = np.zeros((N,N))        \n",
    "        prev_mp = 0\n",
    "        for j,mp in enumerate(mps):\n",
    "            if mp<=len(d_vws):\n",
    "                for v,w in d_vws[prev_mp:mp]:\n",
    "                    A[v,w]=1\n",
    "                    A[w,v]=1\n",
    "                \n",
    "                eigs,vecs = eigh(A)#,subset_by_index=[N-5, N-1])\n",
    "                \n",
    "                sidx = sorted(list(range(len(eigs))),key=lambda x: -(eigs[x]))\n",
    "\n",
    "                vec2,vec3,vec4 = vecs[:,sidx[1]],vecs[:,sidx[2]],vecs[:,sidx[3]]\n",
    "                '''for vec in [vec2,vec3,vec4]:\n",
    "                    vec -= min(vec)\n",
    "                    vec /= max(vec)\n",
    "                '''\n",
    "                reg = LinearRegression().fit(np.array([vec2,vec3,vec4]).T, d_pts)\n",
    "                r2s[i,j] = reg.score(np.array([vec2,vec3,vec4]).T, d_pts)\n",
    "            prev_mp = mp\n",
    "            \n",
    "    R2[alpha]   =np.nanmean(r2s,axis=0)\n",
    "    R2std[alpha]=np.nanstd(r2s,axis=0)\n",
    "    \n",
    "    MMAX[alpha]= Mmaxs\n",
    "    \n"
   ]
  },
  {
   "cell_type": "markdown",
   "id": "2de1cac6",
   "metadata": {},
   "source": [
    "### Final figure"
   ]
  },
  {
   "cell_type": "code",
   "execution_count": 18,
   "id": "e0cc3ce0",
   "metadata": {},
   "outputs": [
    {
     "data": {
      "text/plain": [
       "''"
      ]
     },
     "execution_count": 18,
     "metadata": {},
     "output_type": "execute_result"
    },
    {
     "data": {
      "image/png": "[encoded data removed]",
      "text/plain": [
       "<Figure size 864x576 with 4 Axes>"
      ]
     },
     "metadata": {
      "needs_background": "light"
     },
     "output_type": "display_data"
    }
   ],
   "source": [
    "colors = list(plt.rcParams['axes.prop_cycle'].by_key()['color'])\n",
    "\n",
    "plt.rcParams.update({'font.size': 14})\n",
    "fig,axs = plt.subplots(2,2,figsize=(12,8))\n",
    "axs=axs.reshape(-1)\n",
    "\n",
    "lw=1\n",
    "lw2=1.5\n",
    "ps = 4.5\n",
    "lfs = 18\n",
    "legfs = 14\n",
    "\n",
    "plt.sca(axs[0])\n",
    "\n",
    "plt.hist(eigs1000, bins=40,density=True,label='Phys.', color=colors[0])\n",
    "plt.hist(er_eigs_1000, bins=40,density=True,histtype='step',label='ER',lw=3,color=colors[2])\n",
    "plt.plot(xs1000,semicircle1000,'--',linewidth=2.,label='Semicir.',color='k')\n",
    "\n",
    "axs[0].annotate(r'$\\mu_1$', xy=(7.55, .015),  xycoords='data',\n",
    "            xytext=(7.55, 0.08),\n",
    "            arrowprops=dict(facecolor='black',headwidth=5.,headlength=5.,width=.5),\n",
    "            horizontalalignment='center', verticalalignment='top')\n",
    "\n",
    "plt.yticks([0,.1,.2])\n",
    "\n",
    "plt.legend(handlelength=1., fontsize=legfs)\n",
    "plt.xlabel('eigenvalues',fontsize=lfs)\n",
    "plt.ylabel('density',fontsize=lfs)\n",
    "\n",
    "\n",
    "plt.sca(axs[1])\n",
    "\n",
    "plt.hist(eigsfull, bins=40,density=True,color=colors[1])\n",
    "plt.hist(er_eigs_full, bins=40,density=True,histtype='step',label='ER',lw=3,color=colors[2])\n",
    "plt.plot(xsfull,semicirclefull,'--k',linewidth=2.)\n",
    "plt.xlabel('eigenvalues',fontsize=lfs)\n",
    "plt.ylabel('density',fontsize=lfs)\n",
    "\n",
    "axs[1].annotate(r'$\\mu_1$', xy=(27, .015*.08/.15),  xycoords='data',\n",
    "            xytext=(27, 0.08*.08/.15),\n",
    "            arrowprops=dict(facecolor='black',headwidth=5.,headlength=5.,width=.5),\n",
    "            horizontalalignment='center', verticalalignment='top')\n",
    "\n",
    "axs[1].annotate(r'$\\mu_2,\\mu_3,\\mu_4$', xy=(17.68, .015*.08/.15),  xycoords='data',\n",
    "            xytext=(17.68, 0.08*.08/.15),\n",
    "            arrowprops=dict(facecolor='black',headwidth=5.,headlength=5.,width=.5),\n",
    "            horizontalalignment='center', verticalalignment='top')\n",
    "\n",
    "plt.yticks([0,.05,.1])\n",
    "\n",
    "\n",
    "\n",
    "plt.sca(axs[2])\n",
    "\n",
    "plt.plot(pts[:,2],pred_coord_1000[:,2],'o', label = '$M=1000$ (Non-phys.)',markersize=3)\n",
    "plt.plot(pts[:,2],pred_coord_full[:,2],'o', label = 'Jammed state',markersize=3)\n",
    "plt.xlabel(\"True x\",fontsize=lfs)\n",
    "plt.ylabel(\"Predicted x\",fontsize=lfs)\n",
    "plt.legend(fontsize=legfs)\n",
    "\n",
    "\n",
    "plt.sca(axs[3])\n",
    "\n",
    "prop_cycle = plt.rcParams['axes.prop_cycle']\n",
    "colors = prop_cycle.by_key()['color']\n",
    "\n",
    "for alpha,color in zip([2.,1.,.5,.35],colors):\n",
    "    plt.plot(mps[:len(R2[alpha])],R2[alpha],'-',color=color,label='%.5f'%N**-alpha)\n",
    "    plt.axvline(np.max(MMAX[alpha]),color=color,ls='--',lw=1)\n",
    "#cmap.to_rgba(alpha)\n",
    "#plt.plot(np.max(MMAX[1]),R2[1][-1],'o',color=cmap.to_rgba(1.))\n",
    "#plt.plot(mps[52],R2[1][52],'o',color=cmap.to_rgba(1.))\n",
    "\n",
    "\n",
    "plt.ylim(top=1.05)\n",
    "plt.xscale('log')\n",
    "\n",
    "plt.xlim(left=1)\n",
    "plt.legend(title=r'$\\lambda$',handlelength=1.,loc='upper left')\n",
    "plt.xlabel('M',fontsize=lfs)\n",
    "plt.ylabel('$R^2$',fontsize=lfs);\n",
    "\n",
    "\n",
    "plt.tight_layout()\n",
    "#plt.savefig('fig-eigvec.pdf', transparent=True)\n",
    "\n",
    ";"
   ]
  }
 ],
 "metadata": {
  "kernelspec": {
   "display_name": "Python 3",
   "language": "python",
   "name": "python3"
  },
  "language_info": {
   "codemirror_mode": {
    "name": "ipython",
    "version": 3
   },
   "file_extension": ".py",
   "mimetype": "text/x-python",
   "name": "python",
   "nbconvert_exporter": "python",
   "pygments_lexer": "ipython3",
   "version": "3.6.11"
  }
 },
 "nbformat": 4,
 "nbformat_minor": 5
}
